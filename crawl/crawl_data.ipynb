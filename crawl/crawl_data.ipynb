{
 "cells": [
  {
   "cell_type": "markdown",
   "id": "24e65682",
   "metadata": {},
   "source": [
    "# CRAWL STOCK API\n",
    "\n",
    "## Nguồn dữ liệu: DStock, FireAnt"
   ]
  },
  {
   "cell_type": "markdown",
   "id": "54c154ac",
   "metadata": {},
   "source": [
    "## Phần 1: Quy Trình Khoa học Dữ liệu"
   ]
  },
  {
   "cell_type": "markdown",
   "id": "42011f1a",
   "metadata": {},
   "source": [
    "### 1. Chuẩn bị dữ liệu"
   ]
  },
  {
   "cell_type": "markdown",
   "id": "0d1037f3",
   "metadata": {},
   "source": [
    "Import các thư viện cần thiết cho việc thu thập dữ liệu."
   ]
  },
  {
   "cell_type": "code",
   "execution_count": null,
   "id": "6f2e93bc",
   "metadata": {},
   "outputs": [],
   "source": [
    "import requests\n",
    "import pandas as pd"
   ]
  },
  {
   "cell_type": "markdown",
   "id": "72d5b885",
   "metadata": {},
   "source": [
    "Lấy thông tin các công ty đã từng được đưa lên sàn chứng khoán Việt Nam"
   ]
  },
  {
   "cell_type": "code",
   "execution_count": null,
   "id": "1a71c24a",
   "metadata": {},
   "outputs": [],
   "source": [
    "def get_stock_list():\n",
    "    VNDIRECT_API = 'https://finfo-api.vndirect.com.vn/v4/stocks'\n",
    "    \n",
    "    headers = {\n",
    "        'User-Agent': 'Mozilla/5.0 (Macintosh; Intel Mac OS X 10_15_7) AppleWebKit/537.36 (KHTML, like Gecko) Chrome/91.0.4472.114 Safari/537.36',\n",
    "        'Content-Type': 'application/json',\n",
    "    }\n",
    "    \n",
    "    params = {\n",
    "        \"q\": \"type:stock,ifc~floor:HOSE,HNX,UPCOM\",\n",
    "        \"size\": \"9999\"\n",
    "    }\n",
    "    \n",
    "    response = requests.get(url = VNDIRECT_API, params = params, headers = headers)\n",
    "    \n",
    "    if response.status_code == 200:\n",
    "        field_to_get = [\"code\", \"type\", \"status\", \"companyName\", \"listedDate\", \"delistedDate\"]\n",
    "        df = pd.DataFrame(response.json()[\"data\"])\n",
    "        df = df[field_to_get]\n",
    "        return pd.DataFrame(df)\n",
    "        \n",
    "    return []"
   ]
  },
  {
   "cell_type": "code",
   "execution_count": null,
   "id": "7c5f8220",
   "metadata": {},
   "outputs": [],
   "source": [
    "stock_data = get_stock_list()\n",
    "stock_data.head()"
   ]
  },
  {
   "cell_type": "markdown",
   "id": "0c387180",
   "metadata": {},
   "source": [
    "Data clean up"
   ]
  },
  {
   "cell_type": "code",
   "execution_count": null,
   "id": "ccdb82b1",
   "metadata": {},
   "outputs": [],
   "source": [
    "import re\n",
    "\n",
    "def cleanRoman(text):\n",
    "    pattern = r'\\b(?=[MDCLXVIΙ])M{0,4}(CM|CD|D?C{0,3})(XC|XL|L?X{0,3})([IΙ]X|[IΙ]V|V?[IΙ]{0,3})\\b\\.?'\n",
    "    return re.sub(pattern, '', text)\n",
    "\n",
    "def cleanText(text):\n",
    "    pattern = r'[^A-Za-z]+'\n",
    "    return re.sub(pattern, '', text)\n",
    "\n",
    "def cleanBullet(text):\n",
    "    pattern = '\\w[.)]\\s*'\n",
    "    return re.sub(pattern, '', text)\n",
    "\n",
    "def removeVietNameAccent(s):\n",
    "    s = re.sub(r'[àáạảãâầấậẩẫăằắặẳẵ]', 'a', s)\n",
    "    s = re.sub(r'[ÀÁẠẢÃĂẰẮẶẲẴÂẦẤẬẨẪ]', 'A', s)\n",
    "    s = re.sub(r'[èéẹẻẽêềếệểễ]', 'e', s)\n",
    "    s = re.sub(r'[ÈÉẸẺẼÊỀẾỆỂỄ]', 'E', s)\n",
    "    s = re.sub(r'[òóọỏõôồốộổỗơờớợởỡ]', 'o', s)\n",
    "    s = re.sub(r'[ÒÓỌỎÕÔỒỐỘỔỖƠỜỚỢỞỠ]', 'O', s)\n",
    "    s = re.sub(r'[ìíịỉĩ]', 'i', s)\n",
    "    s = re.sub(r'[ÌÍỊỈĨ]', 'I', s)\n",
    "    s = re.sub(r'[ùúụủũưừứựửữ]', 'u', s)\n",
    "    s = re.sub(r'[ƯỪỨỰỬỮÙÚỤỦŨ]', 'U', s)\n",
    "    s = re.sub(r'[ỳýỵỷỹ]', 'y', s)\n",
    "    s = re.sub(r'[ỲÝỴỶỸ]', 'Y', s)\n",
    "    s = re.sub(r'[Đ]', 'D', s)\n",
    "    s = re.sub(r'[đ]', 'd', s)\n",
    "    return s\n",
    "\n",
    "def removeSpace(text):\n",
    "    pattern = r'\\s*'\n",
    "    return re.sub(pattern, '', text)"
   ]
  },
  {
   "cell_type": "markdown",
   "id": "ac8966ce",
   "metadata": {},
   "source": [
    "Lấy các chỉ số báo cáo tài chính"
   ]
  },
  {
   "cell_type": "code",
   "execution_count": null,
   "id": "25ff7e9c",
   "metadata": {},
   "outputs": [],
   "source": [
    "import datetime\n",
    "\n",
    "def get_balance_sheet(symbol = \"VNM\", fromYear = 2021, toYear = 2022):\n",
    "    companyBalanceSheet = []\n",
    "    \n",
    "    headers = {\n",
    "        'User-Agent': 'Mozilla/5.0 (Macintosh; Intel Mac OS X 10_15_7) AppleWebKit/537.36 (KHTML, like Gecko) Chrome/91.0.4472.114 Safari/537.36',\n",
    "    }\n",
    "    fireant_bearer_token = \"eyJ0eXAiOiJKV1QiLCJhbGciOiJSUzI1NiIsIng1dCI6IkdYdExONzViZlZQakdvNERWdjV4QkRITHpnSSIsImtpZCI6IkdYdExONzViZlZQakdvNERWdjV4QkRITHpnSSJ9.eyJpc3MiOiJodHRwczovL2FjY291bnRzLmZpcmVhbnQudm4iLCJhdWQiOiJodHRwczovL2FjY291bnRzLmZpcmVhbnQudm4vcmVzb3VyY2VzIiwiZXhwIjoxOTM5NDc0NDY3LCJuYmYiOjE2Mzk0NzQ0NjcsImNsaWVudF9pZCI6ImZpcmVhbnQudHJhZGVzdGF0aW9uIiwic2NvcGUiOlsib3BlbmlkIiwicHJvZmlsZSIsInJvbGVzIiwiZW1haWwiLCJhY2NvdW50cy1yZWFkIiwiYWNjb3VudHMtd3JpdGUiLCJvcmRlcnMtcmVhZCIsIm9yZGVycy13cml0ZSIsImNvbXBhbmllcy1yZWFkIiwiaW5kaXZpZHVhbHMtcmVhZCIsImZpbmFuY2UtcmVhZCIsInBvc3RzLXdyaXRlIiwicG9zdHMtcmVhZCIsInN5bWJvbHMtcmVhZCIsInVzZXItZGF0YS1yZWFkIiwidXNlci1kYXRhLXdyaXRlIiwidXNlcnMtcmVhZCIsInNlYXJjaCIsImFjYWRlbXktcmVhZCIsImFjYWRlbXktd3JpdGUiLCJibG9nLXJlYWQiLCJpbnZlc3RvcGVkaWEtcmVhZCJdLCJzdWIiOiJkM2UxY2I4MC0xMDc0LTRhMjItYWY4Ny0yNjlhOGM3Mzc2NmMiLCJhdXRoX3RpbWUiOjE2Mzk0NzQ0NjcsImlkcCI6Ikdvb2dsZSIsIm5hbWUiOiJtaW5odHJpLm1pbmh6enh6eEBnbWFpbC5jb20iLCJzZWN1cml0eV9zdGFtcCI6ImIzNDM3MmFkLTgxZjktNGUyYy04NTc4LTBmYWE3NmIxYmMzOSIsInByZWZlcnJlZF91c2VybmFtZSI6Im1pbmh0cmkubWluaHp6eHp4QGdtYWlsLmNvbSIsInVzZXJuYW1lIjoibWluaHRyaS5taW5oenp4enhAZ21haWwuY29tIiwiZnVsbF9uYW1lIjoiTWluaCBUcmkgTmd1eWVuIiwiZW1haWwiOiJtaW5odHJpLm1pbmh6enh6eEBnbWFpbC5jb20iLCJlbWFpbF92ZXJpZmllZCI6InRydWUiLCJqdGkiOiIzY2FjMTQwZGIxMTRkNGMwOWI2MWJjNTA1NmQ0MDg0OCIsImFtciI6WyJleHRlcm5hbCJdfQ.X9deVcDttd06BxdZC7uOBXeObi3qOYqIsWK190UXRBSbVw-03W4KlsQ5PwKyoAc5beog9zYTtZzoE63cnbJ4o14aq4ljsM4bcFEfP2wLl3taVjuKbJOKaFMLiUFyQGiPc5_iE7b-7Z3cVWyEWtDl9xeqg57vVrBLXvcyzquWTFVKgaumR7PA3EwM5UHQWL8f2nx_zwAW06Y-x6soQItu8byN4Brm6VZK6YawUikZqsNehRxHmd_Q52rd4WJ5cTnLUHSlHNoKzEVOobfvOStE2bkoEceBuwgnjEIgqvFsdEX26lvi7ytkkUad9_Mm4LIs_-MxAnsoop3K0IFMzgq-IQ\"\n",
    "    headers.update({'Authorization': f\"Bearer {fireant_bearer_token}\"})\n",
    "    \n",
    "    FIREANT_API = f\"https://restv2.fireant.vn/symbols/{symbol}/full-financial-reports?\"\n",
    "    \n",
    "    field_to_get = [\n",
    "        { 'tongcongtaisan': 'totalAssets'},\n",
    "        { 'taisancodinhhuuhinh': 'tangibleAssets'},\n",
    "        { 'taisancodinhvohinh': 'intangibleAssets'},\n",
    "        { 'doanhthuthuan': 'netRevenue'},\n",
    "        { 'loinhuantruocthue': 'profitBeforeTaxes'},\n",
    "        { 'loinhuansauthuecuacodongcuacongtyme': 'profitAfterTaxes'},\n",
    "        { 'tonghangtonkho': 'inventory'},\n",
    "        { 'nophaitra': 'liabilities'},\n",
    "        { 'tienvatuongduongtiencuoiky': 'cashAndCashEquivalents'},\n",
    "        { 'vonchusohuu': 'equity'},\n",
    "        { 'nonganhan': 'shorttermLiabilities'},\n",
    "        { 'nodaihan': 'longtermLiabilities'},\n",
    "        { 'giavonhangban': 'costPrice'},\n",
    "        { 'khauhaotscd': 'fixedAssetsDepreciation'},\n",
    "        { 'trongdochiphilaivay': 'lendingCost'},\n",
    "        { 'vayvanothuetaichinhnganhan': 'shorttermBorrowingsFinancialLeases'},\n",
    "        { 'vayvanothuetaichinhdaihan': 'longtermBorrowingsFinancialLeases'},\n",
    "    ]\n",
    "    \n",
    "    for year in range(fromYear, toYear+1):\n",
    "        for quarter in range(1, 4+1):\n",
    "            if datetime.datetime(year, quarter*3, 1) > datetime.datetime.now():\n",
    "                continue\n",
    "            \n",
    "            print(f\"Getting data for {symbol} - {year} - {quarter}\")\n",
    "                  \n",
    "            quarterBalanceSheet = {}\n",
    "                                    \n",
    "            for field in field_to_get:\n",
    "                quarterBalanceSheet.update({list(field.values())[0] : 0})\n",
    "             \n",
    "            # 1  : \"candoiketoan\"\n",
    "            # 2  : \"ketquakinhdoanh\"\n",
    "            # 3  : \"luuchuyentientett\"\n",
    "            # 4  : \"luuchuyentientegt\"\n",
    "            for statementType in range(1, 5):                    \n",
    "                params = {\n",
    "                    \"type\": statementType, \n",
    "                    \"year\": year,\n",
    "                    \"quarter\": quarter,\n",
    "                    \"limit\": 1,\n",
    "                }\n",
    "                \n",
    "                fireant_response = requests.get(FIREANT_API, headers=headers, params=params).json()\n",
    "                                \n",
    "                try:\n",
    "                    if (fireant_response != None):\n",
    "                        for field_respone in fireant_response:\n",
    "                            if ('name' not in field_respone): continue\n",
    "                            \n",
    "                            field_name =  removeSpace(cleanText(removeVietNameAccent(cleanBullet(cleanRoman(field_respone['name']))))).lower()\n",
    "                            field_value = field_respone['values'][0]['value'] or 0\n",
    "                            \n",
    "                            for field in field_to_get:\n",
    "                                if field_name in field: quarterBalanceSheet.update({field[field_name]: str(field_value)})\n",
    "                    \n",
    "                    quarterBalanceSheet.update({f\"year\": year})\n",
    "                    quarterBalanceSheet.update({f\"quarter\": quarter})\n",
    "                    \n",
    "                except:\n",
    "                    print(f\"{symbol} - {year} - {quarter} - {statementType} - {fireant_response}\")\n",
    "                    raise\n",
    "                \n",
    "            companyBalanceSheet.append(quarterBalanceSheet)\n",
    "    return companyBalanceSheet"
   ]
  },
  {
   "cell_type": "markdown",
   "id": "e2acd87f",
   "metadata": {},
   "source": [
    "Lấy chỉ số báo cáo tài chính của công ty"
   ]
  },
  {
   "cell_type": "code",
   "execution_count": null,
   "id": "f763188b",
   "metadata": {},
   "outputs": [],
   "source": [
    "print(get_balance_sheet())"
   ]
  },
  {
   "cell_type": "code",
   "execution_count": null,
   "id": "1aa36a4e",
   "metadata": {},
   "outputs": [],
   "source": [
    "mask_active_stock_comapny = (stock_data['status'] == 'listed') & (stock_data['type'] == 'STOCK')\n",
    "active_company = stock_data[mask_active_stock_comapny]\n",
    "active_company"
   ]
  },
  {
   "cell_type": "code",
   "execution_count": null,
   "id": "ae5a46d5",
   "metadata": {},
   "outputs": [],
   "source": [
    "# get balance sheet for all active company and save to csv file\n",
    "'''\n",
    "for index, row in active_company.iterrows():\n",
    "    symbol = row['code']\n",
    "    company_balance_sheet = get_balance_sheet(symbol)\n",
    "    \n",
    "    pd.DataFrame(company_balance_sheet).to_csv(f\"./dataset/{symbol}.csv\", index=False)\n",
    "'''"
   ]
  },
  {
   "cell_type": "code",
   "execution_count": null,
   "id": "d1be1a64",
   "metadata": {},
   "outputs": [],
   "source": [
    "stock_data.info()"
   ]
  },
  {
   "cell_type": "code",
   "execution_count": null,
   "id": "fbd704ec",
   "metadata": {},
   "outputs": [],
   "source": [
    "stock_data['listedDate'] = pd.to_datetime(stock_data['listedDate'], format='%Y-%m-%d')"
   ]
  },
  {
   "cell_type": "code",
   "execution_count": null,
   "id": "8938089f",
   "metadata": {},
   "outputs": [],
   "source": [
    "active_company_from_2015 = stock_data[(stock_data['listedDate'].dt.year < 2016) & (stock_data['status'] == 'listed') & (stock_data['type'] == 'STOCK')]\n",
    "active_company_from_2015"
   ]
  },
  {
   "cell_type": "code",
   "execution_count": null,
   "id": "d3a59eb6",
   "metadata": {},
   "outputs": [],
   "source": [
    "active_company_from_2015 = active_company_from_2015.sample(100)"
   ]
  },
  {
   "cell_type": "code",
   "execution_count": null,
   "id": "80ba1422",
   "metadata": {},
   "outputs": [],
   "source": [
    "\"\"\"\n",
    "for index, row in active_company_from_2015.iterrows():\n",
    "    symbol = row['code']\n",
    "    company_balance_sheet = get_balance_sheet(symbol,2017,2022)\n",
    "    \n",
    "    pd.DataFrame(company_balance_sheet).to_csv(f\"./dataset_from2015/{symbol}.csv\", index=False)\n",
    "\"\"\""
   ]
  },
  {
   "cell_type": "markdown",
   "id": "924a871e",
   "metadata": {},
   "source": [
    "### 2. Khám phá dữ liệu "
   ]
  },
  {
   "cell_type": "markdown",
   "id": "d16b2636",
   "metadata": {},
   "source": [
    "#### Đọc dữ liệu từ file csv vào data frame"
   ]
  },
  {
   "cell_type": "code",
   "execution_count": null,
   "id": "e4d234b6",
   "metadata": {},
   "outputs": [],
   "source": [
    "import glob\n",
    "import os\n",
    "from pathlib import Path\n",
    "import pandas as pd\n",
    "import matplotlib as plt"
   ]
  },
  {
   "cell_type": "code",
   "execution_count": null,
   "id": "50eaede5",
   "metadata": {},
   "outputs": [],
   "source": [
    "# Add your folder path\n",
    "folder_path = './dataset'\n",
    "\n",
    "file_type = 'csv'\n",
    "seperator =','\n",
    "\n",
    "files = Path(folder_path).glob('*.csv')\n",
    "\n",
    "dfs = list()\n",
    "for f in files:\n",
    "    data = pd.read_csv(f)\n",
    "    # .stem is method for pathlib objects to get the filename w/o the extension\n",
    "    data['file'] = f.stem\n",
    "    dfs.append(data)\n",
    "\n",
    "df = pd.concat(dfs, ignore_index=True)"
   ]
  },
  {
   "cell_type": "code",
   "execution_count": null,
   "id": "1023b83e",
   "metadata": {},
   "outputs": [],
   "source": [
    "df"
   ]
  },
  {
   "cell_type": "markdown",
   "id": "a5bb072b",
   "metadata": {},
   "source": [
    "#### Dữ liệu gồm có bao nhiêu dòng và cột?"
   ]
  },
  {
   "cell_type": "code",
   "execution_count": null,
   "id": "b2c2d461",
   "metadata": {},
   "outputs": [],
   "source": [
    "num_rows = len(df.axes[0])\n",
    "num_cols = len(df.axes[1])\n",
    "print('Row: ',num_rows)\n",
    "print(\"Cols: \",num_cols)"
   ]
  },
  {
   "cell_type": "markdown",
   "id": "4289ff79",
   "metadata": {},
   "source": [
    "#### Mỗi dòng có ý nghĩa gì?"
   ]
  },
  {
   "cell_type": "markdown",
   "id": "d1714271",
   "metadata": {},
   "source": [
    " - Một dòng cho biết báo cáo tài chính của 1 công ty trong 1 quý"
   ]
  },
  {
   "cell_type": "markdown",
   "id": "52ab380f",
   "metadata": {},
   "source": [
    "#### Dữ liệu có các dòng bị lặp không?"
   ]
  },
  {
   "cell_type": "code",
   "execution_count": null,
   "id": "37bba6f9",
   "metadata": {},
   "outputs": [],
   "source": [
    "have_duplicated_rows = False\n",
    "for i in df.duplicated().items():\n",
    "    if(i[1] == True):\n",
    "        have_duplicated_rows = True"
   ]
  },
  {
   "cell_type": "code",
   "execution_count": null,
   "id": "06fedf1f",
   "metadata": {},
   "outputs": [],
   "source": [
    "assert have_duplicated_rows == False"
   ]
  },
  {
   "cell_type": "markdown",
   "id": "f6de4481",
   "metadata": {},
   "source": [
    "- Như vậy không có dòng nào bị lặp"
   ]
  },
  {
   "cell_type": "markdown",
   "id": "b5d5074e",
   "metadata": {},
   "source": [
    "#### Mỗi cột có ý nghĩa gì?"
   ]
  },
  {
   "cell_type": "markdown",
   "id": "af7512a5",
   "metadata": {},
   "source": [
    "- totalAssets: tổng giá trị tài sản \n",
    "- tangibleAssets: tài sản cố định hữu hình\n",
    "- intangibleAsets: tài sản cố định vô hình\n",
    "- netRevenue: doanh thu thuần\n",
    "- profitBeforeTaxes: lợi nhuận trước thuế\n",
    "- profitAfterTaxes: lợi nhuận sau thuế của cổ đông công ty mẹ\n",
    "- inventory: tổng hàng tồn kho\n",
    "- liabilities: nợ phải trả\n",
    "- cashAndCashEquivalents: tiền mặt và các khoảng tương đương tiền\n",
    "- equity: vốn chủ sở hữu\n",
    "- shorttermLiabilities: nợ ngắn hạn\n",
    "- longtermLiabilities: nợ dài hạn\n",
    "- costPrice: giá vốn hàng bán\n",
    "- fixedAssetsDepreciation: khấu hao tài sản cố định\n",
    "- lendingCost: chi phí lãi vay\n",
    "- shorttermBorrowingsFinancialLeases: vay nợ tài chính ngắn hạn\n",
    "- longtermBorrowingsFinancialLeases: vay nợ tài chính dài hạn\n",
    "- year: năm tài chính\n",
    "- quarter: quý\n",
    "- file: mã code của công ty"
   ]
  },
  {
   "cell_type": "markdown",
   "id": "b250ad30",
   "metadata": {},
   "source": [
    "#### Mỗi cột hiện đang có kiểu dữ liệu gì?"
   ]
  },
  {
   "cell_type": "code",
   "execution_count": null,
   "id": "256e0886",
   "metadata": {},
   "outputs": [],
   "source": [
    "col_dtypes = df.dtypes\n",
    "col_dtypes"
   ]
  },
  {
   "cell_type": "markdown",
   "id": "84add3b1",
   "metadata": {},
   "source": [
    "### Với mỗi cột có kiểu dữ liệu dạng numeric, các giá trị được phân bố như thế nào?"
   ]
  },
  {
   "cell_type": "code",
   "execution_count": null,
   "id": "a6ed5d0c",
   "metadata": {},
   "outputs": [],
   "source": [
    "nume_col_df = df.drop(columns='file')\n",
    "missing_ratio = (nume_col_df.isnull().sum() * 100 / len(nume_col_df))\n",
    "min = nume_col_df.min()\n",
    "max = nume_col_df.max()\n",
    "row_name = ['missing_ratio','min','max']\n",
    "nume_col_profiles_df = pd.DataFrame([missing_ratio,min,max],index=row_name )\n",
    "nume_col_profiles_df"
   ]
  },
  {
   "cell_type": "markdown",
   "id": "9399b53b",
   "metadata": {},
   "source": [
    "### Cột có kiểu dữ liệu dạng không phải numeric, các giá trị được phân bố như thế nào?"
   ]
  },
  {
   "cell_type": "code",
   "execution_count": null,
   "id": "00f275c4",
   "metadata": {},
   "outputs": [],
   "source": [
    "object_col_df = df[[\"file\"]] # tên file là tên của doanh nghiệp\n",
    "missing_ratio = object_col_df.isnull().sum() * 100 / len(object_col_df)\n",
    "num_diff_vals = object_col_df.nunique()\n",
    "diff_vals = [object_col_df[col_name].dropna().unique() for col_name in object_col_df.columns]\n",
    "r_name = [\"missing_ratio\", \"num_diff_vals\", \"diff_vals\"]\n",
    "\n",
    "object_col_profiles_df = pd.DataFrame([missing_ratio,num_diff_vals,pd.Series(diff_vals,index=[\"file\"])],index=r_name)\n",
    "object_col_profiles_df"
   ]
  },
  {
   "cell_type": "markdown",
   "id": "e06cada9",
   "metadata": {},
   "source": [
    "## 3. Trả lời câu hỏi"
   ]
  },
  {
   "cell_type": "markdown",
   "id": "c28febbf",
   "metadata": {},
   "source": [
    "#### Câu 1: Công ty nào có tỷ lệ tăng trưởng tốt nhất trong năm 2022?"
   ]
  },
  {
   "cell_type": "code",
   "execution_count": null,
   "id": "2ee31fd5",
   "metadata": {},
   "outputs": [],
   "source": [
    "df_netRenevue = df[['netRevenue','quarter','year','file']]\n",
    "df_netRenevue"
   ]
  },
  {
   "cell_type": "markdown",
   "id": "8192a120",
   "metadata": {},
   "source": [
    "Chỉ giữ lại các quý cuối của năm"
   ]
  },
  {
   "cell_type": "code",
   "execution_count": null,
   "id": "cfc8cd54",
   "metadata": {},
   "outputs": [],
   "source": [
    "i = df_netRenevue[(df_netRenevue['quarter'] != 4)].index\n",
    "df_netRenevue = df_netRenevue.drop(i)"
   ]
  },
  {
   "cell_type": "markdown",
   "id": "cb5058b4",
   "metadata": {},
   "source": [
    "Tính tỷ lệ tăng trưởng của năm 2022 so với năm 2021"
   ]
  },
  {
   "cell_type": "code",
   "execution_count": null,
   "id": "b3971d98",
   "metadata": {},
   "outputs": [],
   "source": [
    "df_netRenevue['Growth Rate']=df_netRenevue.groupby('file')['netRevenue'].pct_change()\n",
    "df_netRenevue"
   ]
  },
  {
   "cell_type": "markdown",
   "id": "52932133",
   "metadata": {},
   "source": [
    "Xoá các dòng có tỷ lệ tăng trưởng là NaN"
   ]
  },
  {
   "cell_type": "code",
   "execution_count": null,
   "id": "9383d000",
   "metadata": {},
   "outputs": [],
   "source": [
    "df_netRenevue_gr = df_netRenevue.dropna(subset='Growth Rate')\n",
    "df_netRenevue_gr"
   ]
  },
  {
   "cell_type": "markdown",
   "id": "99bdc245",
   "metadata": {},
   "source": [
    "Lấy ra công ty có tỷ lệ tăng trưởng cao nhất"
   ]
  },
  {
   "cell_type": "code",
   "execution_count": null,
   "id": "7ffe4a9b",
   "metadata": {},
   "outputs": [],
   "source": [
    "biggest_growth_rate = df_netRenevue_gr.loc[df_netRenevue_gr['Growth Rate'].idxmax()] \n",
    "biggest_growth_rate"
   ]
  },
  {
   "cell_type": "code",
   "execution_count": null,
   "id": "4ff0bc2b",
   "metadata": {},
   "outputs": [],
   "source": [
    "stock_data.loc[stock_data['code'] == biggest_growth_rate['file']]"
   ]
  },
  {
   "cell_type": "markdown",
   "id": "25e628b0",
   "metadata": {},
   "source": [
    "- Vậy công ty có tỷ lệ tăng trưởng tốt nhất trong năm 2022 là Công ty cổ phần khoáng sản Miền Đông AHP"
   ]
  },
  {
   "cell_type": "markdown",
   "id": "1e50623b",
   "metadata": {},
   "source": [
    "#"
   ]
  },
  {
   "cell_type": "markdown",
   "id": "d5050636",
   "metadata": {},
   "source": [
    "#### 2. Trong 2 năm thu thập, các công ty nào đã bị deslist khỏi sàn chứng khoán, và xếp hạng tăng trưởng doanh thu của họ so với các công ty như thế nào?"
   ]
  },
  {
   "cell_type": "markdown",
   "id": "f58d9c9b",
   "metadata": {},
   "source": [
    "Danh sách các công ty đã bị delist"
   ]
  },
  {
   "cell_type": "code",
   "execution_count": null,
   "id": "73c934e1",
   "metadata": {},
   "outputs": [],
   "source": [
    "mask_inactive_stock_comapny = (stock_data['status'] == 'delisted') & (stock_data['type'] == 'STOCK') \n",
    "inactive_company = stock_data[mask_inactive_stock_comapny]\n",
    "inactive_company"
   ]
  },
  {
   "cell_type": "code",
   "execution_count": null,
   "id": "86cb7822",
   "metadata": {},
   "outputs": [],
   "source": [
    "inactive_company['delistedDate'] = pd.to_datetime(inactive_company['delistedDate'], format='%Y-%m-%d')"
   ]
  },
  {
   "cell_type": "markdown",
   "id": "efef64f8",
   "metadata": {},
   "source": [
    "Danh sách các công ty bị delist trong 2 năm 2021,2022"
   ]
  },
  {
   "cell_type": "code",
   "execution_count": null,
   "id": "5f670dbe",
   "metadata": {},
   "outputs": [],
   "source": [
    "inactive_company_21_22 = inactive_company[(inactive_company['delistedDate'].dt.year == 2022) | (inactive_company['delistedDate'].dt.year == 2021)]\n",
    "inactive_company_21_22"
   ]
  },
  {
   "cell_type": "markdown",
   "id": "65e41672",
   "metadata": {},
   "source": [
    "Lấy báo cáo tài chính của các công ty này"
   ]
  },
  {
   "cell_type": "code",
   "execution_count": null,
   "id": "285185df",
   "metadata": {},
   "outputs": [],
   "source": [
    "'''\n",
    "for index, row in inactive_company_21_22.iterrows():\n",
    "    symbol = row['code']\n",
    "    company_balance_sheet = get_balance_sheet(symbol)\n",
    "    \n",
    "    pd.DataFrame(company_balance_sheet).to_csv(f\"./delisted_dataset/{symbol}.csv\", index=False)\n",
    "'''"
   ]
  },
  {
   "cell_type": "code",
   "execution_count": null,
   "id": "013f98ae",
   "metadata": {},
   "outputs": [],
   "source": [
    "folder_path = './delisted_dataset'\n",
    "\n",
    "file_type = 'csv'\n",
    "seperator =','\n",
    "\n",
    "files = Path(folder_path).glob('*.csv')\n",
    "\n",
    "dfs = list()\n",
    "for f in files:\n",
    "    data = pd.read_csv(f)\n",
    "    # .stem is method for pathlib objects to get the filename w/o the extension\n",
    "    data['file'] = f.stem\n",
    "    dfs.append(data)\n",
    "\n",
    "df_2 = pd.concat(dfs, ignore_index=True)"
   ]
  },
  {
   "cell_type": "code",
   "execution_count": null,
   "id": "5eac3f6f",
   "metadata": {},
   "outputs": [],
   "source": [
    "df_2"
   ]
  },
  {
   "cell_type": "markdown",
   "id": "eab9f436",
   "metadata": {},
   "source": [
    "Đối với các công ty đã bị delist khỏi sàn thì báo cáo tài chính cũng không có thông tin gì. Ta có thể nhận thấy các công ty này hoạt động không minh bạch nên mới bị delist."
   ]
  },
  {
   "cell_type": "markdown",
   "id": "20016a39",
   "metadata": {},
   "source": [
    "#### 3. Top 10 công ty giàu nhất (có tổng giá trị tài sản lớn nhất và nợ phải trả nhỏ nhất)"
   ]
  },
  {
   "cell_type": "code",
   "execution_count": null,
   "id": "ecbcf4bd",
   "metadata": {},
   "outputs": [],
   "source": [
    "df_sorted = df.sort_values(by=['totalAssets', 'liabilities'], ascending=[False,True])\n",
    "df_sorted"
   ]
  },
  {
   "cell_type": "code",
   "execution_count": null,
   "id": "8d3e428b",
   "metadata": {},
   "outputs": [],
   "source": [
    "i = df_sorted[(df_sorted['year'] == 2021)].index\n",
    "df_sorted = df_sorted.drop(i)\n",
    "i = df_sorted[(df_sorted['quarter'] != 4)].index\n",
    "df_sorted = df_sorted.drop(i)\n",
    "df_sorted"
   ]
  },
  {
   "cell_type": "code",
   "execution_count": null,
   "id": "6a2a834b",
   "metadata": {},
   "outputs": [],
   "source": [
    "top10_df = df_sorted.head(10)\n",
    "top10_df"
   ]
  },
  {
   "cell_type": "code",
   "execution_count": null,
   "id": "00254c19",
   "metadata": {},
   "outputs": [],
   "source": [
    "top10_df = top10_df.set_index('file')\n",
    "top10_df"
   ]
  },
  {
   "cell_type": "code",
   "execution_count": null,
   "id": "f40db1a8",
   "metadata": {},
   "outputs": [],
   "source": [
    "top10_df['totalAssets'].plot.bar(xlabel='Tên các công ty', ylabel='Tổng tài sản')"
   ]
  },
  {
   "cell_type": "markdown",
   "id": "6858eb20",
   "metadata": {},
   "source": [
    "- Dễ dàng nhận thấy các công ty trên đều là Ngân hàng "
   ]
  },
  {
   "cell_type": "markdown",
   "id": "63ff9c46",
   "metadata": {},
   "source": [
    "#"
   ]
  },
  {
   "cell_type": "markdown",
   "id": "f765bb69",
   "metadata": {},
   "source": [
    "#### 4. Độ tăng trưởng qua các mốc thời gian của top 3 công ty lên sàn sớm nhất \n",
    "#### (Độ tăng trưởng qua thời gian được tính bằng doanh thu thuần của các quý trong 2 năm 2021, 2022)"
   ]
  },
  {
   "cell_type": "code",
   "execution_count": null,
   "id": "b21c7719",
   "metadata": {},
   "outputs": [],
   "source": [
    "active_company['listedDate'] = pd.to_datetime(active_company['listedDate'], format='%Y-%m-%d')\n",
    "active_company"
   ]
  },
  {
   "cell_type": "code",
   "execution_count": null,
   "id": "7d8cca4e",
   "metadata": {},
   "outputs": [],
   "source": [
    "active_company = active_company.sort_values(by='listedDate')\n",
    "active_company"
   ]
  },
  {
   "cell_type": "code",
   "execution_count": null,
   "id": "605476bf",
   "metadata": {},
   "outputs": [],
   "source": [
    "top3_df = active_company.head(3)\n",
    "top3_df"
   ]
  },
  {
   "cell_type": "code",
   "execution_count": null,
   "id": "4dc0fd3e",
   "metadata": {},
   "outputs": [],
   "source": [
    "top3_detail_df = df[df['file'].isin(top3_df['code'])]\n",
    "top3_detail_df"
   ]
  },
  {
   "cell_type": "code",
   "execution_count": null,
   "id": "af940726",
   "metadata": {},
   "outputs": [],
   "source": [
    "new = top3_detail_df[['netRevenue','quarter','year','file']].pivot(index=['year','quarter'], columns='file', values='netRevenue')\n",
    "new"
   ]
  },
  {
   "cell_type": "code",
   "execution_count": null,
   "id": "7284d705",
   "metadata": {},
   "outputs": [],
   "source": [
    "new.plot(xlabel='Thời gian',ylabel='Doanh thu')"
   ]
  },
  {
   "cell_type": "markdown",
   "id": "9af65155",
   "metadata": {},
   "source": [
    "- Tuy là những doanh nghiệp lên sàn sớm nhất nhưng tính hình doanh thu vẫn rất biến động "
   ]
  },
  {
   "cell_type": "markdown",
   "id": "dd7dc58e",
   "metadata": {},
   "source": [
    "#### 5: Xu hướng nợ ngắn hạn của các công ty trong năm 2021, 2022"
   ]
  },
  {
   "cell_type": "markdown",
   "id": "5cb2ab07",
   "metadata": {},
   "source": [
    "Ý nghĩa: Thể hiện định hướng kinh doanh của doanh nghiệp và chỉ ra rằng các doanh nghiệp hiện tại có đang đầu tư các mục tiêu ngắn hạn hay không, từ đó phản ánh nền kinh tế nước nhà."
   ]
  },
  {
   "cell_type": "markdown",
   "id": "272868af",
   "metadata": {},
   "source": [
    "Đầu tiên, xử lý dữ liệu bằng cách chia theo từng năm rồi cộng các quý lại, nghĩa là mình chỉ quan tăm đến nợ ngắn hạn trong quý mà thôi."
   ]
  },
  {
   "cell_type": "code",
   "execution_count": null,
   "id": "d7b1d2b5",
   "metadata": {},
   "outputs": [],
   "source": [
    "import seaborn as sns"
   ]
  },
  {
   "cell_type": "code",
   "execution_count": null,
   "id": "c97d496e",
   "metadata": {},
   "outputs": [],
   "source": [
    "col_name = ['file', 'shorttermLiabilities', 'profitAfterTaxes', 'year']\n",
    "info_df = df[col_name]\n",
    "info_df = info_df.groupby(['file', 'year']).sum().reset_index()\n",
    "info_df_2021 = info_df[info_df.year==2021]\n",
    "info_df_2022 = info_df[info_df.year==2022]"
   ]
  },
  {
   "cell_type": "markdown",
   "id": "045c9feb",
   "metadata": {},
   "source": [
    "Tiếp theo, vẽ biểu đồ cho thấy tương quan giữa nợ ngắn hạn và lợi nhuận sau thuế"
   ]
  },
  {
   "cell_type": "code",
   "execution_count": null,
   "id": "4568ed6a",
   "metadata": {},
   "outputs": [],
   "source": [
    "g=sns.FacetGrid(data=info_df, col='year')\n",
    "g.map(sns.scatterplot, 'profitAfterTaxes', 'shorttermLiabilities', 'file')\n",
    "g.set_xlabels('Lợi nhuận sau thuế')\n",
    "g.set_ylabels('Nợ ngắn hạn')\n",
    "g.fig.subplots_adjust(top=0.7)\n",
    "g.fig.suptitle('Tương quan giữa lợi nhuận sau thuế và nợ ngắn hạn')"
   ]
  },
  {
   "cell_type": "markdown",
   "id": "003a9b04",
   "metadata": {},
   "source": [
    "Biểu đồ cho thấy rằng các công ty không có nợ ngắn hạn thường có lợi nhuận ở mức không cao, thể hiện sự an toàn trong đầu tư, ngược lại, các công ty có nợ ngắn hạn sẽ có lợi nhuận đột phá hơn trong năm 2021, nhưng qua năm 2022, có vẻ lợi nhuận của đa số công ty có nợ ngắn hạn chênh lệch không lớn.  \n",
    "Nhưng, hầu hết các công ty đều có lợi nhuận quanh quẩn mức 0, có nghĩa là trong 2 năm nay, việc tạo ra lợi nhuận bằng các mục tiêu ngắn hạn của các công ty có vẻ không khả quan.\n",
    "Để kiểm chứng điều đó thì ta cùng thực hiện một số thống kê như sau:"
   ]
  },
  {
   "cell_type": "code",
   "execution_count": null,
   "id": "fcd366f1",
   "metadata": {},
   "outputs": [],
   "source": [
    "# Tỷ lệ công ty không có nợ ngắn hạn\n",
    "count_no_short_Liabilities_2021 = len(info_df_2021[info_df_2021.shorttermLiabilities == 0])/len(info_df_2021)\n",
    "count_no_short_Liabilities_2022 = len(info_df_2022[info_df_2022.shorttermLiabilities == 0])/len(info_df_2022)\n",
    "print(f'Ratio of no short liabilities in 2021 is {count_no_short_Liabilities_2021}')\n",
    "print(f'Ratio of no short liabilities in 2022 is {count_no_short_Liabilities_2022}')"
   ]
  },
  {
   "cell_type": "markdown",
   "id": "b79800d9",
   "metadata": {},
   "source": [
    "Tỉ lệ này cho ra cỡ 40% các doanh nghiệp không có nợ ngắn hạn, nghĩa là đa số các công ty sẽ chọn không nợ hoặc đầu tư dài hạn hơn.  \n",
    "Tiếp theo, ta sẽ tìm hiểu về phân bố của nợ ngắn hạn, các công ty có nợ ngắn hạn trong 2 năm này sẽ thường nợ bao nhiêu?"
   ]
  },
  {
   "cell_type": "code",
   "execution_count": null,
   "id": "c402dd33",
   "metadata": {},
   "outputs": [],
   "source": [
    "short_Liabilities = info_df[info_df.shorttermLiabilities > 0]\n",
    "g=sns.FacetGrid(data=short_Liabilities, col='year')\n",
    "g.map(sns.histplot, 'shorttermLiabilities', log_scale=True)\n",
    "g.set_xlabels('Nợ ngắn hạn')\n",
    "g.fig.subplots_adjust(top=0.7)\n",
    "g.fig.suptitle('Phân bố nợ ngắn hạn của từng năm')"
   ]
  },
  {
   "cell_type": "markdown",
   "id": "20533cff",
   "metadata": {},
   "source": [
    "Mức nợ phân bố chuẩn trong ở lân cận mức 1 tỷ trong năm 2021 và có xu hướng co cụm về mức 1 tỷ trong năm 2022. Việc đầu tư ngắn hạn ở các doanh nghiệp trong 2 năm gần đây đã có sự khởi sắc hơn, khi số lượng tiền vay ở mức 1 tỷ cao hơn trước, thể hiện các doanh nghiệp đã sẵn sàng để quay lại với các mục tiêu trong quý hoặc trong năm."
   ]
  },
  {
   "cell_type": "markdown",
   "id": "32e14681",
   "metadata": {},
   "source": [
    "## Phần 2: Mô Hình hoá Dữ liệu"
   ]
  },
  {
   "cell_type": "markdown",
   "id": "ad2b9e4b",
   "metadata": {},
   "source": [
    "### Làm việc với Data từ 2015"
   ]
  },
  {
   "cell_type": "code",
   "execution_count": null,
   "id": "fba7b695",
   "metadata": {},
   "outputs": [],
   "source": [
    "folder_path = './dataset_from2015'\n",
    "\n",
    "file_type = 'csv'\n",
    "seperator =','\n",
    "\n",
    "files = Path(folder_path).glob('*.csv')\n",
    "\n",
    "dfs = list()\n",
    "for f in files:\n",
    "    data = pd.read_csv(f)\n",
    "    # .stem is method for pathlib objects to get the filename w/o the extension\n",
    "    data['file'] = f.stem\n",
    "    dfs.append(data)\n",
    "\n",
    "df_3 = pd.concat(dfs, ignore_index=True)"
   ]
  },
  {
   "cell_type": "code",
   "execution_count": null,
   "id": "87cd3f90",
   "metadata": {},
   "outputs": [],
   "source": [
    "df_3"
   ]
  },
  {
   "cell_type": "markdown",
   "id": "27e23b12",
   "metadata": {},
   "source": [
    "### A. Mô hình hóa dữ liệu và đánh giá mô hình\n"
   ]
  },
  {
   "cell_type": "code",
   "execution_count": null,
   "id": "1b944e37",
   "metadata": {},
   "outputs": [],
   "source": [
    "from sklearn import linear_model\n",
    "from sklearn.linear_model import LinearRegression, SGDRegressor\n",
    "from sklearn.neighbors import KNeighborsRegressor\n",
    "from sklearn.tree import DecisionTreeRegressor\n",
    "from sklearn.neural_network import MLPRegressor\n",
    "from sklearn.ensemble import BaggingRegressor\n",
    "from sklearn.svm import SVR\n",
    "from sklearn.model_selection import cross_validate\n",
    "import matplotlib.pyplot as plt\n",
    "import plotly.express as px"
   ]
  },
  {
   "cell_type": "markdown",
   "id": "e2a4d4fb",
   "metadata": {},
   "source": [
    "#### 1. Mô hình dự đoán doanh thu thông qua giá vốn bán hàng. Sử dụng mô hình LinearRegression"
   ]
  },
  {
   "cell_type": "markdown",
   "id": "b7a748b7",
   "metadata": {},
   "source": [
    "Lấy ra các cột 'netRevenue' , 'costPrice' , 'year' , 'quarter' , 'file' "
   ]
  },
  {
   "cell_type": "code",
   "execution_count": null,
   "id": "8c08f77d",
   "metadata": {},
   "outputs": [],
   "source": [
    "df_test = df_3[['netRevenue','costPrice','year','quarter','file']]"
   ]
  },
  {
   "cell_type": "markdown",
   "id": "6f3cdab8",
   "metadata": {},
   "source": [
    "Ở đây ta sẽ lấy ra các dòng thuộc quý 4 năm 2022 để làm 1 dataframe dùng để test xem đường hồi quy có fit không"
   ]
  },
  {
   "cell_type": "code",
   "execution_count": null,
   "id": "225ff55c",
   "metadata": {},
   "outputs": [],
   "source": [
    "mask = (df_test['year'] == 2022)\n",
    "df_test_2 = df_test[mask]\n",
    "df_test_2"
   ]
  },
  {
   "cell_type": "markdown",
   "id": "229e4c4a",
   "metadata": {},
   "source": [
    "Còn đây là dataframe dùng để trainning"
   ]
  },
  {
   "cell_type": "code",
   "execution_count": null,
   "id": "6c991557",
   "metadata": {},
   "outputs": [],
   "source": [
    "mask = (df_test['year'] != 2022)\n",
    "df_test_1 = df_test[mask]\n",
    "df_test_1"
   ]
  },
  {
   "cell_type": "markdown",
   "id": "7b915033",
   "metadata": {},
   "source": [
    "Tính hệ số tương quan"
   ]
  },
  {
   "cell_type": "code",
   "execution_count": null,
   "id": "7f4885e2",
   "metadata": {},
   "outputs": [],
   "source": [
    "df_test_1[['netRevenue','costPrice']].corr()"
   ]
  },
  {
   "cell_type": "markdown",
   "id": "a2136915",
   "metadata": {},
   "source": [
    "Lưu hai cột netRevenue và costPrice vào 2 biến độc lập"
   ]
  },
  {
   "cell_type": "code",
   "execution_count": null,
   "id": "4b416e65",
   "metadata": {},
   "outputs": [],
   "source": [
    "# Train set\n",
    "netRevenue = pd.DataFrame(df_test_1['netRevenue'])\n",
    "costPrice = pd.DataFrame(df_test_1['costPrice'])"
   ]
  },
  {
   "cell_type": "markdown",
   "id": "0403936b",
   "metadata": {},
   "source": [
    "Tạo model"
   ]
  },
  {
   "cell_type": "code",
   "execution_count": null,
   "id": "078dd324",
   "metadata": {},
   "outputs": [],
   "source": [
    "lm = linear_model.LinearRegression()\n",
    "model = lm.fit(costPrice.values ,netRevenue.values)"
   ]
  },
  {
   "cell_type": "markdown",
   "id": "b83c1911",
   "metadata": {},
   "source": [
    "Hệ số dự đoán của model"
   ]
  },
  {
   "cell_type": "code",
   "execution_count": null,
   "id": "5030e6a6",
   "metadata": {},
   "outputs": [],
   "source": [
    "model.coef_"
   ]
  },
  {
   "cell_type": "markdown",
   "id": "04a4d2bb",
   "metadata": {},
   "source": [
    "Hệ số chặn y"
   ]
  },
  {
   "cell_type": "code",
   "execution_count": null,
   "id": "d400f511",
   "metadata": {},
   "outputs": [],
   "source": [
    "model.intercept_"
   ]
  },
  {
   "cell_type": "markdown",
   "id": "7dcf7226",
   "metadata": {},
   "source": [
    "Hệ số xác định của dự đoán."
   ]
  },
  {
   "cell_type": "code",
   "execution_count": null,
   "id": "3edb3080",
   "metadata": {},
   "outputs": [],
   "source": [
    "model.score(costPrice.values,netRevenue.values)"
   ]
  },
  {
   "cell_type": "markdown",
   "id": "1ee56393",
   "metadata": {},
   "source": [
    "Lưu hai cột netRevenue và costPrice của df_test_2 vào 2 biến độc lập"
   ]
  },
  {
   "cell_type": "code",
   "execution_count": null,
   "id": "87dca27f",
   "metadata": {},
   "outputs": [],
   "source": [
    "netRevenue_test = pd.DataFrame(df_test_2['netRevenue'])\n",
    "costPrice_test = pd.DataFrame(df_test_2['costPrice'])"
   ]
  },
  {
   "cell_type": "markdown",
   "id": "275ebdf2",
   "metadata": {},
   "source": [
    "#### Vẽ đồ thị tương quan giữa 2 biến netRevenue và costPrice:\n",
    "- Các chấm màu xanh thể hiện sự tương quan giữa costPrice và netRevenue trong các quý 1,2,3,4 của năm 2021 và 1,2,3 của năm 2022\n",
    "- Đường màu đỏ là đường hồi quy tuyến tính dựa trên tập dữ liệu df_test_1\n",
    "- Các chấm màu đen thể hiện sự tương quan giữa costPrice và netRevenue trong quý 4 năm 2022"
   ]
  },
  {
   "cell_type": "code",
   "execution_count": null,
   "id": "9a3a72c3",
   "metadata": {},
   "outputs": [],
   "source": [
    "plt.scatter(costPrice,netRevenue)\n",
    "plt.plot(costPrice , model.predict(costPrice.values), color='red')\n",
    "plt.scatter(costPrice_test,netRevenue_test, color='black')"
   ]
  },
  {
   "cell_type": "markdown",
   "id": "dd0735aa",
   "metadata": {},
   "source": [
    "**Nhận xét:**\n",
    "- Đường hồi quy là dự đoán doanh thu nếu tăng giá vốn hàng bán lên.\n",
    "- Ta có thể thấy đường hồi quy khá fit với các điểm trên đồ thị. Bằng chứng là các điểm hầu như nằm rất gần hoặc năm trên đường hồi quy.\n",
    "- Có thể thấy đường hồi quy cho ra một kết quả dự đoán khá chính xác, các chấm đen cũng năm rất gần đường hồi quy (sai lệch rất thấp).\n",
    "- Tuy nhiên, doanh thu thật sự vẫn có trend tăng, nhưng thực tế là khi tăng giá vốn hàng bán, người dùng sẽ khó tiếp cận sản phẩm hơn, nên do đó doanh thu bán hàng của những mặt hàng bán tầm giá vốn đấy doanh thu ít hơn hẳn."
   ]
  },
  {
   "cell_type": "markdown",
   "id": "7b542810",
   "metadata": {},
   "source": [
    "So sánh với LogisticRegression, KNeighborsRegression, DecisionTreeRegression, MLPRegression, BaggingRegression, SVR"
   ]
  },
  {
   "cell_type": "code",
   "execution_count": null,
   "id": "60e30e60",
   "metadata": {},
   "outputs": [],
   "source": [
    "kneighbor = KNeighborsRegressor().fit(costPrice.values, netRevenue.values)\n",
    "decision = DecisionTreeRegressor().fit(costPrice.values, netRevenue.values)\n",
    "neural = MLPRegressor().fit(costPrice.values, netRevenue.values)\n",
    "bagging = BaggingRegressor().fit(costPrice.values, netRevenue.values)\n",
    "svr = SVR().fit(costPrice.values, netRevenue.values)"
   ]
  },
  {
   "cell_type": "code",
   "execution_count": null,
   "id": "388d8d91",
   "metadata": {},
   "outputs": [],
   "source": [
    "linear_acc = model.score(costPrice.values, netRevenue.values)\n",
    "kneighbor_acc = kneighbor.score(costPrice.values, netRevenue.values)\n",
    "decision_acc = decision.score(costPrice.values, netRevenue.values)\n",
    "neural_acc = neural.score(costPrice.values, netRevenue.values)\n",
    "bagging_acc = bagging.score(costPrice.values, netRevenue.values)\n",
    "svr_acc = svr.score(costPrice.values, netRevenue.values)"
   ]
  },
  {
   "cell_type": "code",
   "execution_count": null,
   "id": "2f454e19",
   "metadata": {},
   "outputs": [],
   "source": [
    "fig = px.bar(\n",
    "    x=['Linear','KNeighbor', 'Decision Tree', 'Neural Network', 'Bagging', 'SVR'],\n",
    "    y=[linear_acc, kneighbor_acc, decision_acc, neural_acc, bagging_acc, svr_acc],\n",
    "    color=['Linear','KNeighbor', 'Decision Tree', 'Neural Network', 'Bagging', 'SVR'],\n",
    "    labels={'x': 'Model', 'y': 'R2_score'},\n",
    "    title='Model R2 Comparison'\n",
    ")"
   ]
  },
  {
   "cell_type": "code",
   "execution_count": null,
   "id": "0b0858d6",
   "metadata": {},
   "outputs": [],
   "source": [
    "fig.show()"
   ]
  },
  {
   "cell_type": "markdown",
   "id": "0cbad494",
   "metadata": {},
   "source": [
    "Đánh giá bằng Cross Validation\n"
   ]
  },
  {
   "cell_type": "code",
   "execution_count": null,
   "id": "dffe9d49",
   "metadata": {},
   "outputs": [],
   "source": [
    "from sklearn.model_selection import cross_val_score\n",
    "cv_costPrice = pd.DataFrame(df_test['costPrice'])\n",
    "cv_netRevenue = pd.DataFrame(df_test['netRevenue'])\n",
    "cv_results = cross_val_score(lm, cv_costPrice.values, cv_netRevenue.values, cv=10, error_score='raise')\n",
    "cv_results.mean()"
   ]
  },
  {
   "cell_type": "markdown",
   "id": "f5d53539",
   "metadata": {},
   "source": [
    "Do mô hình hồi quy tuyến tính này không có siêu tham số cho nên không thể hiệu chỉnh cho mô hình tốt hơn được"
   ]
  },
  {
   "cell_type": "code",
   "execution_count": null,
   "id": "7f040247",
   "metadata": {},
   "outputs": [],
   "source": [
    "# Test set\n",
    "true_netRevenue = pd.DataFrame(df_test_2['netRevenue'])\n",
    "test_costPrice = pd.DataFrame(df_test_2['costPrice'])"
   ]
  },
  {
   "cell_type": "code",
   "execution_count": null,
   "id": "83436fa3",
   "metadata": {
    "tags": []
   },
   "outputs": [],
   "source": [
    "from sklearn.metrics import mean_squared_error\n",
    "# Get prediction\n",
    "predict_netRevenue = lm.predict(test_costPrice.values)\n",
    "mean_squared_error(predict_netRevenue, true_netRevenue, squared = False)"
   ]
  },
  {
   "cell_type": "code",
   "execution_count": null,
   "id": "2710090d",
   "metadata": {},
   "outputs": [],
   "source": [
    "plt.scatter(test_costPrice, true_netRevenue)\n",
    "plt.plot(test_costPrice, lm.predict(test_costPrice.values), color='red')"
   ]
  },
  {
   "cell_type": "markdown",
   "id": "a64ce22f",
   "metadata": {},
   "source": [
    "Mô hình hồi quy tuyến tính cho điểm số cỡ $0.44*10^{12}$ trong độ đo RMSE "
   ]
  },
  {
   "cell_type": "markdown",
   "id": "ae1e343b",
   "metadata": {},
   "source": [
    "### Mô hình với prophet"
   ]
  },
  {
   "cell_type": "code",
   "execution_count": null,
   "id": "32e1c4c5",
   "metadata": {},
   "outputs": [],
   "source": [
    "from prophet import Prophet\n",
    "from prophet.plot import plot_plotly,plot_components_plotly"
   ]
  },
  {
   "cell_type": "code",
   "execution_count": null,
   "id": "e34debf7",
   "metadata": {},
   "outputs": [],
   "source": [
    "df_test_1"
   ]
  },
  {
   "cell_type": "code",
   "execution_count": null,
   "id": "99b8abf1",
   "metadata": {},
   "outputs": [],
   "source": [
    "def calc_date_time(row):\n",
    "    month = row['quarter'] * 3\n",
    "    year = row['year']\n",
    "    return f\"30/{month}/{year}\""
   ]
  },
  {
   "cell_type": "code",
   "execution_count": null,
   "id": "00c5482c",
   "metadata": {},
   "outputs": [],
   "source": [
    "df_new = df_test_1.copy()\n",
    "df_new['date'] = df_new.apply(calc_date_time,axis=1)\n",
    "\n",
    "df_new_2 = df_test_2.copy()\n",
    "df_new_2['date'] = df_new_2.apply(calc_date_time,axis=1)"
   ]
  },
  {
   "cell_type": "code",
   "execution_count": null,
   "id": "666a5f42",
   "metadata": {},
   "outputs": [],
   "source": [
    "df_train = df_new[['netRevenue','date']]\n",
    "df_train"
   ]
  },
  {
   "cell_type": "code",
   "execution_count": null,
   "id": "88773d89",
   "metadata": {},
   "outputs": [],
   "source": [
    "df_train = df_train.rename(columns={'netRevenue':'y','date':'ds'})\n",
    "df_train.ds = pd.to_datetime(df_train.ds)\n",
    "df_train"
   ]
  },
  {
   "cell_type": "code",
   "execution_count": null,
   "id": "555f8faa",
   "metadata": {},
   "outputs": [],
   "source": [
    "m = Prophet()\n",
    "m.fit(df_train)"
   ]
  },
  {
   "cell_type": "code",
   "execution_count": null,
   "id": "e97eaefc",
   "metadata": {},
   "outputs": [],
   "source": [
    "future = m.make_future_dataframe(periods=90)\n",
    "forecast = m.predict(future)\n",
    "future"
   ]
  },
  {
   "cell_type": "code",
   "execution_count": null,
   "id": "4599ba54",
   "metadata": {},
   "outputs": [],
   "source": [
    "plot_plotly(m,forecast)"
   ]
  },
  {
   "cell_type": "code",
   "execution_count": null,
   "id": "a0bcb5b0",
   "metadata": {},
   "outputs": [],
   "source": [
    "# Make cv set\n",
    "from prophet.diagnostics import performance_metrics, cross_validation\n",
    "df_cv = cross_validation(m, horizon = '365 days')\n",
    "df_cv"
   ]
  },
  {
   "cell_type": "code",
   "execution_count": null,
   "id": "bb1a0e79",
   "metadata": {},
   "outputs": [],
   "source": [
    "rmse = performance_metrics(df_cv)['rmse']\n",
    "rmse"
   ]
  },
  {
   "cell_type": "code",
   "execution_count": null,
   "id": "719cea93",
   "metadata": {},
   "outputs": [],
   "source": [
    "import itertools\n",
    "param_grid = {  \n",
    "    'changepoint_prior_scale': [0.001, 0.01, 0.1, 0.2, 0.4, 0.5],\n",
    "    'seasonality_prior_scale': [0.01, 0.1, 1.0, 2.0, 3.0, 4.0, 5.0, 10.0],\n",
    "}\n",
    "\n",
    "# Generate all combinations of parameters\n",
    "all_params = [dict(zip(param_grid.keys(), v)) for v in itertools.product(*param_grid.values())]\n",
    "rmses = []  # Store the RMSEs for each params here\n",
    "\n",
    "# Use cross validation to evaluate all parameters\n",
    "for params in all_params:\n",
    "    m = Prophet(**params).fit(df_train)  # Fit model with given params\n",
    "    df_cv = cross_validation(m, horizon='365 days')\n",
    "    df_p = performance_metrics(df_cv, rolling_window=1)\n",
    "    rmses.append(df_p['rmse'].values[0])\n",
    "\n",
    "# Find the best parameters\n",
    "tuning_results = pd.DataFrame(all_params)\n",
    "tuning_results['rmse'] = rmses"
   ]
  },
  {
   "cell_type": "code",
   "execution_count": null,
   "id": "38855293",
   "metadata": {},
   "outputs": [],
   "source": [
    "tuning_results[tuning_results.rmse == tuning_results.rmse.min()]"
   ]
  },
  {
   "cell_type": "code",
   "execution_count": null,
   "id": "9386cf6f",
   "metadata": {},
   "outputs": [],
   "source": [
    "new_prophet = Prophet(changepoint_prior_scale=0.01, seasonality_prior_scale=5)"
   ]
  },
  {
   "cell_type": "code",
   "execution_count": null,
   "id": "ab8b8f61",
   "metadata": {},
   "outputs": [],
   "source": [
    "# Test set\n",
    "df_test = df_new_2[['netRevenue','date']].rename(columns={'netRevenue':'y','date':'ds'})\n",
    "df_test.ds = pd.to_datetime(df_test.ds)\n",
    "df_test"
   ]
  },
  {
   "cell_type": "code",
   "execution_count": null,
   "id": "f188524b",
   "metadata": {},
   "outputs": [],
   "source": [
    "# Pre-train\n",
    "new_prophet.fit(df_train) "
   ]
  },
  {
   "cell_type": "code",
   "execution_count": null,
   "id": "dbfb47b4",
   "metadata": {},
   "outputs": [],
   "source": [
    "yhat = m.predict(df_test[['ds']]).yhat\n",
    "yhat\n",
    "y = df_test.y\n",
    "y\n",
    "#RMSE\n",
    "mean_squared_error(yhat, y, squared = False)"
   ]
  },
  {
   "cell_type": "markdown",
   "id": "6600fa8f",
   "metadata": {},
   "source": [
    "Điểm RMSE của Prophet cho ra cỡ $0.18 * 10^{13}$, tệ hơn điểm của Hồi quy tuyến tính, cho thấy rằng thị trường tài chính trong năm 2022 khá khác so với các năm trước (do dịch covid chẳng hạn), dẫn đến việc sử dụng mô hình này trong tình huống này kém hiệu quả hơn"
   ]
  }
 ],
 "metadata": {
  "kernelspec": {
   "display_name": "Python 3 (ipykernel)",
   "language": "python",
   "name": "python3"
  },
  "language_info": {
   "codemirror_mode": {
    "name": "ipython",
    "version": 3
   },
   "file_extension": ".py",
   "mimetype": "text/x-python",
   "name": "python",
   "nbconvert_exporter": "python",
   "pygments_lexer": "ipython3",
   "version": "3.9.13"
  },
  "vscode": {
   "interpreter": {
    "hash": "a7b46487bd62579b85d3e44b1b3897fa8efa3616dc00c11f91013d2edfb5a513"
   }
  }
 },
 "nbformat": 4,
 "nbformat_minor": 5
}
