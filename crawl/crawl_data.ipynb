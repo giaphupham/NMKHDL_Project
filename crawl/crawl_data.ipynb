{
  "cells": [
    {
      "attachments": {},
      "cell_type": "markdown",
      "metadata": {},
      "source": [
        "# CRAWL STOCK API\n",
        "\n",
        "## Nguồn dữ liệu: DStock, FireAnt, VietStock Finance"
      ]
    },
    {
      "attachments": {},
      "cell_type": "markdown",
      "metadata": {},
      "source": [
        "### 1. Chuẩn bị dữ liệu"
      ]
    },
    {
      "attachments": {},
      "cell_type": "markdown",
      "metadata": {},
      "source": [
        "Import các thư viện cần thiết cho việc thu thập dữ liệu."
      ]
    },
    {
      "cell_type": "code",
      "execution_count": 1,
      "metadata": {},
      "outputs": [],
      "source": [
        "import requests\n",
        "import pandas as pd"
      ]
    },
    {
      "attachments": {},
      "cell_type": "markdown",
      "metadata": {},
      "source": [
        "Lấy thông tin các công ty đã từng được đưa lên sàn chứng khoán Việt Nam"
      ]
    },
    {
      "cell_type": "code",
      "execution_count": 4,
      "metadata": {},
      "outputs": [],
      "source": [
        "def get_stock_list():\n",
        "    VNDIRECT_API = 'https://finfo-api.vndirect.com.vn/v4/stocks'\n",
        "    \n",
        "    headers = {\n",
        "        'User-Agent': 'Mozilla/5.0 (Macintosh; Intel Mac OS X 10_15_7) AppleWebKit/537.36 (KHTML, like Gecko) Chrome/91.0.4472.114 Safari/537.36',\n",
        "        'Content-Type': 'application/json',\n",
        "    }\n",
        "    \n",
        "    params = {\n",
        "        \"q\": \"type:stock,ifc~floor:HOSE,HNX,UPCOM\",\n",
        "        \"size\": \"9999\"\n",
        "    }\n",
        "    \n",
        "    response = requests.get(url = VNDIRECT_API, params = params, headers = headers)\n",
        "    \n",
        "    if response.status_code == 200:\n",
        "        field_to_get = [\"code\", \"type\", \"status\", \"companyName\", \"listedDate\", \"delistedDate\"]\n",
        "        df = pd.DataFrame(response.json()[\"data\"])\n",
        "        df = df[field_to_get]\n",
        "        df = df[df[\"status\"] == \"listed\"]\n",
        "        df = df.drop(columns = [\"status\"])\n",
        "        return pd.DataFrame(df)\n",
        "        \n",
        "    return []"
      ]
    },
    {
      "cell_type": "code",
      "execution_count": 5,
      "metadata": {},
      "outputs": [
        {
          "data": {
            "text/html": [
              "<div>\n",
              "<style scoped>\n",
              "    .dataframe tbody tr th:only-of-type {\n",
              "        vertical-align: middle;\n",
              "    }\n",
              "\n",
              "    .dataframe tbody tr th {\n",
              "        vertical-align: top;\n",
              "    }\n",
              "\n",
              "    .dataframe thead th {\n",
              "        text-align: right;\n",
              "    }\n",
              "</style>\n",
              "<table border=\"1\" class=\"dataframe\">\n",
              "  <thead>\n",
              "    <tr style=\"text-align: right;\">\n",
              "      <th></th>\n",
              "      <th>code</th>\n",
              "      <th>type</th>\n",
              "      <th>companyName</th>\n",
              "      <th>listedDate</th>\n",
              "      <th>delistedDate</th>\n",
              "    </tr>\n",
              "  </thead>\n",
              "  <tbody>\n",
              "    <tr>\n",
              "      <th>1</th>\n",
              "      <td>FUCVREIT</td>\n",
              "      <td>IFC</td>\n",
              "      <td>Quỹ đầu tư bất động sản Techcom Việt Nam</td>\n",
              "      <td>2017-02-27</td>\n",
              "      <td>NaN</td>\n",
              "    </tr>\n",
              "    <tr>\n",
              "      <th>5</th>\n",
              "      <td>FUCTVGF3</td>\n",
              "      <td>IFC</td>\n",
              "      <td>Quỹ đầu tư tăng trưởng Thiên Việt 3</td>\n",
              "      <td>2021-10-27</td>\n",
              "      <td>NaN</td>\n",
              "    </tr>\n",
              "    <tr>\n",
              "      <th>11</th>\n",
              "      <td>FUCTVGF4</td>\n",
              "      <td>IFC</td>\n",
              "      <td>Quỹ đầu tư tăng trưởng Thiên Việt 4</td>\n",
              "      <td>2022-09-26</td>\n",
              "      <td>NaN</td>\n",
              "    </tr>\n",
              "    <tr>\n",
              "      <th>13</th>\n",
              "      <td>VCC</td>\n",
              "      <td>STOCK</td>\n",
              "      <td>Công ty Cổ phần Vinaconex 25</td>\n",
              "      <td>2009-02-05</td>\n",
              "      <td>NaN</td>\n",
              "    </tr>\n",
              "    <tr>\n",
              "      <th>14</th>\n",
              "      <td>CTB</td>\n",
              "      <td>STOCK</td>\n",
              "      <td>Công ty Cổ phần Chế tạo Bơm Hải Dương</td>\n",
              "      <td>2006-10-10</td>\n",
              "      <td>NaN</td>\n",
              "    </tr>\n",
              "  </tbody>\n",
              "</table>\n",
              "</div>"
            ],
            "text/plain": [
              "        code   type                               companyName  listedDate  \\\n",
              "1   FUCVREIT    IFC  Quỹ đầu tư bất động sản Techcom Việt Nam  2017-02-27   \n",
              "5   FUCTVGF3    IFC       Quỹ đầu tư tăng trưởng Thiên Việt 3  2021-10-27   \n",
              "11  FUCTVGF4    IFC       Quỹ đầu tư tăng trưởng Thiên Việt 4  2022-09-26   \n",
              "13       VCC  STOCK              Công ty Cổ phần Vinaconex 25  2009-02-05   \n",
              "14       CTB  STOCK    Công ty Cổ phần Chế tạo Bơm Hải Dương   2006-10-10   \n",
              "\n",
              "   delistedDate  \n",
              "1           NaN  \n",
              "5           NaN  \n",
              "11          NaN  \n",
              "13          NaN  \n",
              "14          NaN  "
            ]
          },
          "execution_count": 5,
          "metadata": {},
          "output_type": "execute_result"
        }
      ],
      "source": [
        "stock_data = get_stock_list()\n",
        "stock_data.head()"
      ]
    },
    {
      "attachments": {},
      "cell_type": "markdown",
      "metadata": {},
      "source": [
        "Data clean up"
      ]
    },
    {
      "cell_type": "code",
      "execution_count": 6,
      "metadata": {},
      "outputs": [],
      "source": [
        "import re\n",
        "\n",
        "def cleanRoman(text):\n",
        "    pattern = r'\\b(?=[MDCLXVIΙ])M{0,4}(CM|CD|D?C{0,3})(XC|XL|L?X{0,3})([IΙ]X|[IΙ]V|V?[IΙ]{0,3})\\b\\.?'\n",
        "    return re.sub(pattern, '', text)\n",
        "\n",
        "def cleanText(text):\n",
        "    pattern = r'[^A-Za-z]+'\n",
        "    return re.sub(pattern, '', text)\n",
        "\n",
        "def cleanBullet(text):\n",
        "    pattern = '\\w[.)]\\s*'\n",
        "    return re.sub(pattern, '', text)\n",
        "\n",
        "def removeVietNameAccent(s):\n",
        "    s = re.sub(r'[àáạảãâầấậẩẫăằắặẳẵ]', 'a', s)\n",
        "    s = re.sub(r'[ÀÁẠẢÃĂẰẮẶẲẴÂẦẤẬẨẪ]', 'A', s)\n",
        "    s = re.sub(r'[èéẹẻẽêềếệểễ]', 'e', s)\n",
        "    s = re.sub(r'[ÈÉẸẺẼÊỀẾỆỂỄ]', 'E', s)\n",
        "    s = re.sub(r'[òóọỏõôồốộổỗơờớợởỡ]', 'o', s)\n",
        "    s = re.sub(r'[ÒÓỌỎÕÔỒỐỘỔỖƠỜỚỢỞỠ]', 'O', s)\n",
        "    s = re.sub(r'[ìíịỉĩ]', 'i', s)\n",
        "    s = re.sub(r'[ÌÍỊỈĨ]', 'I', s)\n",
        "    s = re.sub(r'[ùúụủũưừứựửữ]', 'u', s)\n",
        "    s = re.sub(r'[ƯỪỨỰỬỮÙÚỤỦŨ]', 'U', s)\n",
        "    s = re.sub(r'[ỳýỵỷỹ]', 'y', s)\n",
        "    s = re.sub(r'[ỲÝỴỶỸ]', 'Y', s)\n",
        "    s = re.sub(r'[Đ]', 'D', s)\n",
        "    s = re.sub(r'[đ]', 'd', s)\n",
        "    return s\n",
        "\n",
        "def removeSpace(text):\n",
        "    pattern = r'\\s*'\n",
        "    return re.sub(pattern, '', text)"
      ]
    },
    {
      "attachments": {},
      "cell_type": "markdown",
      "metadata": {},
      "source": [
        "Lấy các chỉ số báo cáo tài chính"
      ]
    },
    {
      "cell_type": "code",
      "execution_count": 36,
      "metadata": {},
      "outputs": [],
      "source": [
        "import datetime\n",
        "\n",
        "def get_balance_sheet(symbol = \"VNM\", fromYear = 2021, toYear = 2022):\n",
        "    companyBalanceSheet = []\n",
        "    \n",
        "    headers = {\n",
        "        'User-Agent': 'Mozilla/5.0 (Macintosh; Intel Mac OS X 10_15_7) AppleWebKit/537.36 (KHTML, like Gecko) Chrome/91.0.4472.114 Safari/537.36',\n",
        "    }\n",
        "    fireant_bearer_token = \"eyJ0eXAiOiJKV1QiLCJhbGciOiJSUzI1NiIsIng1dCI6IkdYdExONzViZlZQakdvNERWdjV4QkRITHpnSSIsImtpZCI6IkdYdExONzViZlZQakdvNERWdjV4QkRITHpnSSJ9.eyJpc3MiOiJodHRwczovL2FjY291bnRzLmZpcmVhbnQudm4iLCJhdWQiOiJodHRwczovL2FjY291bnRzLmZpcmVhbnQudm4vcmVzb3VyY2VzIiwiZXhwIjoxOTM5NDc0NDY3LCJuYmYiOjE2Mzk0NzQ0NjcsImNsaWVudF9pZCI6ImZpcmVhbnQudHJhZGVzdGF0aW9uIiwic2NvcGUiOlsib3BlbmlkIiwicHJvZmlsZSIsInJvbGVzIiwiZW1haWwiLCJhY2NvdW50cy1yZWFkIiwiYWNjb3VudHMtd3JpdGUiLCJvcmRlcnMtcmVhZCIsIm9yZGVycy13cml0ZSIsImNvbXBhbmllcy1yZWFkIiwiaW5kaXZpZHVhbHMtcmVhZCIsImZpbmFuY2UtcmVhZCIsInBvc3RzLXdyaXRlIiwicG9zdHMtcmVhZCIsInN5bWJvbHMtcmVhZCIsInVzZXItZGF0YS1yZWFkIiwidXNlci1kYXRhLXdyaXRlIiwidXNlcnMtcmVhZCIsInNlYXJjaCIsImFjYWRlbXktcmVhZCIsImFjYWRlbXktd3JpdGUiLCJibG9nLXJlYWQiLCJpbnZlc3RvcGVkaWEtcmVhZCJdLCJzdWIiOiJkM2UxY2I4MC0xMDc0LTRhMjItYWY4Ny0yNjlhOGM3Mzc2NmMiLCJhdXRoX3RpbWUiOjE2Mzk0NzQ0NjcsImlkcCI6Ikdvb2dsZSIsIm5hbWUiOiJtaW5odHJpLm1pbmh6enh6eEBnbWFpbC5jb20iLCJzZWN1cml0eV9zdGFtcCI6ImIzNDM3MmFkLTgxZjktNGUyYy04NTc4LTBmYWE3NmIxYmMzOSIsInByZWZlcnJlZF91c2VybmFtZSI6Im1pbmh0cmkubWluaHp6eHp4QGdtYWlsLmNvbSIsInVzZXJuYW1lIjoibWluaHRyaS5taW5oenp4enhAZ21haWwuY29tIiwiZnVsbF9uYW1lIjoiTWluaCBUcmkgTmd1eWVuIiwiZW1haWwiOiJtaW5odHJpLm1pbmh6enh6eEBnbWFpbC5jb20iLCJlbWFpbF92ZXJpZmllZCI6InRydWUiLCJqdGkiOiIzY2FjMTQwZGIxMTRkNGMwOWI2MWJjNTA1NmQ0MDg0OCIsImFtciI6WyJleHRlcm5hbCJdfQ.X9deVcDttd06BxdZC7uOBXeObi3qOYqIsWK190UXRBSbVw-03W4KlsQ5PwKyoAc5beog9zYTtZzoE63cnbJ4o14aq4ljsM4bcFEfP2wLl3taVjuKbJOKaFMLiUFyQGiPc5_iE7b-7Z3cVWyEWtDl9xeqg57vVrBLXvcyzquWTFVKgaumR7PA3EwM5UHQWL8f2nx_zwAW06Y-x6soQItu8byN4Brm6VZK6YawUikZqsNehRxHmd_Q52rd4WJ5cTnLUHSlHNoKzEVOobfvOStE2bkoEceBuwgnjEIgqvFsdEX26lvi7ytkkUad9_Mm4LIs_-MxAnsoop3K0IFMzgq-IQ\"\n",
        "    headers.update({'Authorization': f\"Bearer {fireant_bearer_token}\"})\n",
        "    \n",
        "    FIREANT_API = f\"https://restv2.fireant.vn/symbols/{symbol}/full-financial-reports?\"\n",
        "    \n",
        "    field_to_get = [\n",
        "        { 'tongcongtaisan': 'totalAssets'},\n",
        "        { 'taisancodinhhuuhinh': 'tangibleAssets'},\n",
        "        { 'taisancodinhvohinh': 'intangibleAssets'},\n",
        "        { 'doanhthuthuan': 'netRevenue'},\n",
        "        { 'loinhuantruocthue': 'profitBeforeTaxes'},\n",
        "        { 'loinhuansauthuecuacodongcuacongtyme': 'profitAfterTaxes'},\n",
        "        { 'tonghangtonkho': 'inventory'},\n",
        "        { 'nophaitra': 'liabilities'},\n",
        "        { 'tienvatuongduongtiencuoiky': 'cashAndCashEquivalents'},\n",
        "        { 'vonchusohuu': 'equity'},\n",
        "        { 'nonganhan': 'shorttermLiabilities'},\n",
        "        { 'nodaihan': 'longtermLiabilities'},\n",
        "        { 'giavonhangban': 'costPrice'},\n",
        "        { 'khauhaotscd': 'fixedAssetsDepreciation'},\n",
        "        { 'trongdochiphilaivay': 'lendingCost'},\n",
        "        { 'vayvanothuetaichinhnganhan': 'shorttermBorrowingsFinancialLeases'},\n",
        "        { 'vayvanothuetaichinhdaihan': 'longtermBorrowingsFinancialLeases'},\n",
        "    ]\n",
        "    \n",
        "    for year in range(fromYear, toYear+1):\n",
        "        for quarter in range(1, 4+1):\n",
        "            if datetime.datetime(year, quarter*3, 1) > datetime.datetime.now():\n",
        "                continue\n",
        "            \n",
        "            print(f\"Getting data for {symbol} - {year} - {quarter}\")\n",
        "                  \n",
        "            quarterBalanceSheet = {}\n",
        "                                    \n",
        "            for field in field_to_get:\n",
        "                quarterBalanceSheet.update({list(field.values())[0] : 0})\n",
        "             \n",
        "            # 1  : \"candoiketoan\"\n",
        "            # 2  : \"ketquakinhdoanh\"\n",
        "            # 3  : \"luuchuyentientett\"\n",
        "            # 4  : \"luuchuyentientegt\"\n",
        "            for statementType in range(1, 5):                    \n",
        "                params = {\n",
        "                    \"type\": statementType, \n",
        "                    \"year\": year,\n",
        "                    \"quarter\": quarter,\n",
        "                    \"limit\": 1,\n",
        "                }\n",
        "                \n",
        "                fireant_response = requests.get(FIREANT_API, headers=headers, params=params).json()\n",
        "                                \n",
        "                try:\n",
        "                    if (fireant_response != None):\n",
        "                        for field_respone in fireant_response:\n",
        "                            if ('name' not in field): continue\n",
        "                            \n",
        "                            field_name =  removeSpace(cleanText(removeVietNameAccent(cleanBullet(cleanRoman(field_respone['name']))))).lower()\n",
        "                            value = field_respone['values'][0]['value'] or 0\n",
        "                            \n",
        "                            for field in field_to_get:\n",
        "                                if field_name in field: quarterBalanceSheet.update({field[field_name]: str(value)})\n",
        "                                \n",
        "                    quarterBalanceSheet.update({f\"year\": year})\n",
        "                    quarterBalanceSheet.update({f\"quarter\": quarter})\n",
        "                    \n",
        "                except:\n",
        "                    print(f\"{symbol} - {year} - {quarter} - {statementType} - {fireant_response}\")\n",
        "                    raise\n",
        "                \n",
        "            companyBalanceSheet.append(quarterBalanceSheet)\n",
        "    return companyBalanceSheet"
      ]
    },
    {
      "cell_type": "markdown",
      "metadata": {},
      "source": [
        "Lấy chỉ số báo cáo tài chính của công ty"
      ]
    },
    {
      "cell_type": "code",
      "execution_count": 38,
      "metadata": {},
      "outputs": [
        {
          "name": "stdout",
          "output_type": "stream",
          "text": [
            "Getting data for VNM - 2021 - 1\n",
            "Getting data for VNM - 2021 - 2\n",
            "Getting data for VNM - 2021 - 3\n",
            "Getting data for VNM - 2021 - 4\n",
            "Getting data for VNM - 2022 - 1\n",
            "Getting data for VNM - 2022 - 2\n",
            "Getting data for VNM - 2022 - 3\n",
            "[{'totalAssets': 0, 'tangibleAssets': 0, 'intangibleAssets': 0, 'netRevenue': 0, 'profitBeforeTaxes': 0, 'profitAfterTaxes': 0, 'inventory': 0, 'liabilities': 0, 'cashAndCashEquivalents': 0, 'equity': 0, 'shorttermLiabilities': 0, 'longtermLiabilities': 0, 'costPrice': 0, 'fixedAssetsDepreciation': 0, 'lendingCost': 0, 'shorttermBorrowingsFinancialLeases': 0, 'longtermBorrowingsFinancialLeases': 0, 'year': 2021, 'quarter': 1}, {'totalAssets': 0, 'tangibleAssets': 0, 'intangibleAssets': 0, 'netRevenue': 0, 'profitBeforeTaxes': 0, 'profitAfterTaxes': 0, 'inventory': 0, 'liabilities': 0, 'cashAndCashEquivalents': 0, 'equity': 0, 'shorttermLiabilities': 0, 'longtermLiabilities': 0, 'costPrice': 0, 'fixedAssetsDepreciation': 0, 'lendingCost': 0, 'shorttermBorrowingsFinancialLeases': 0, 'longtermBorrowingsFinancialLeases': 0, 'year': 2021, 'quarter': 2}, {'totalAssets': 0, 'tangibleAssets': 0, 'intangibleAssets': 0, 'netRevenue': 0, 'profitBeforeTaxes': 0, 'profitAfterTaxes': 0, 'inventory': 0, 'liabilities': 0, 'cashAndCashEquivalents': 0, 'equity': 0, 'shorttermLiabilities': 0, 'longtermLiabilities': 0, 'costPrice': 0, 'fixedAssetsDepreciation': 0, 'lendingCost': 0, 'shorttermBorrowingsFinancialLeases': 0, 'longtermBorrowingsFinancialLeases': 0, 'year': 2021, 'quarter': 3}, {'totalAssets': 0, 'tangibleAssets': 0, 'intangibleAssets': 0, 'netRevenue': 0, 'profitBeforeTaxes': 0, 'profitAfterTaxes': 0, 'inventory': 0, 'liabilities': 0, 'cashAndCashEquivalents': 0, 'equity': 0, 'shorttermLiabilities': 0, 'longtermLiabilities': 0, 'costPrice': 0, 'fixedAssetsDepreciation': 0, 'lendingCost': 0, 'shorttermBorrowingsFinancialLeases': 0, 'longtermBorrowingsFinancialLeases': 0, 'year': 2021, 'quarter': 4}, {'totalAssets': 0, 'tangibleAssets': 0, 'intangibleAssets': 0, 'netRevenue': 0, 'profitBeforeTaxes': 0, 'profitAfterTaxes': 0, 'inventory': 0, 'liabilities': 0, 'cashAndCashEquivalents': 0, 'equity': 0, 'shorttermLiabilities': 0, 'longtermLiabilities': 0, 'costPrice': 0, 'fixedAssetsDepreciation': 0, 'lendingCost': 0, 'shorttermBorrowingsFinancialLeases': 0, 'longtermBorrowingsFinancialLeases': 0, 'year': 2022, 'quarter': 1}, {'totalAssets': 0, 'tangibleAssets': 0, 'intangibleAssets': 0, 'netRevenue': 0, 'profitBeforeTaxes': 0, 'profitAfterTaxes': 0, 'inventory': 0, 'liabilities': 0, 'cashAndCashEquivalents': 0, 'equity': 0, 'shorttermLiabilities': 0, 'longtermLiabilities': 0, 'costPrice': 0, 'fixedAssetsDepreciation': 0, 'lendingCost': 0, 'shorttermBorrowingsFinancialLeases': 0, 'longtermBorrowingsFinancialLeases': 0, 'year': 2022, 'quarter': 2}, {'totalAssets': 0, 'tangibleAssets': 0, 'intangibleAssets': 0, 'netRevenue': 0, 'profitBeforeTaxes': 0, 'profitAfterTaxes': 0, 'inventory': 0, 'liabilities': 0, 'cashAndCashEquivalents': 0, 'equity': 0, 'shorttermLiabilities': 0, 'longtermLiabilities': 0, 'costPrice': 0, 'fixedAssetsDepreciation': 0, 'lendingCost': 0, 'shorttermBorrowingsFinancialLeases': 0, 'longtermBorrowingsFinancialLeases': 0, 'year': 2022, 'quarter': 3}]\n"
          ]
        }
      ],
      "source": [
        "print(get_balance_sheet())"
      ]
    }
  ],
  "metadata": {
    "kernelspec": {
      "display_name": "Python 3",
      "language": "python",
      "name": "python3"
    },
    "language_info": {
      "codemirror_mode": {
        "name": "ipython",
        "version": 3
      },
      "file_extension": ".py",
      "mimetype": "text/x-python",
      "name": "python",
      "nbconvert_exporter": "python",
      "pygments_lexer": "ipython3",
      "version": "3.10.6 (main, Nov  2 2022, 18:53:38) [GCC 11.3.0]"
    },
    "orig_nbformat": 4,
    "vscode": {
      "interpreter": {
        "hash": "916dbcbb3f70747c44a77c7bcd40155683ae19c65e1c03b4aa3499c5328201f1"
      }
    }
  },
  "nbformat": 4,
  "nbformat_minor": 2
}
